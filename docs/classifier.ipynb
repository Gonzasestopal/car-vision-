{
  "cells": [
    {
      "cell_type": "markdown",
      "id": "d6045284",
      "metadata": {
        "id": "d6045284"
      },
      "source": [
        "# Stanford Cars — Training Notebook (PyTorch + timm)\n",
        "\n",
        "This notebook downloads the Kaggle dataset `eduardo4jesus/stanford-cars-dataset` using **kagglehub**, then trains a transfer‑learning image classifier (EfficientNet) with PyTorch.\n",
        "\n",
        "> **Tip:** If you already know the exact root folder that contains class subfolders (e.g. `.../train`), set `DATA_ROOT` directly in the **Config** cell."
      ]
    },
    {
      "cell_type": "markdown",
      "id": "5343e4e9",
      "metadata": {
        "id": "5343e4e9"
      },
      "source": [
        "## 0) Environment check\n",
        "\n",
        "- Python ≥3.9\n",
        "- GPU recommended (CUDA) but the code will fall back to CPU."
      ]
    },
    {
      "cell_type": "code",
      "execution_count": 1,
      "id": "f89bf23a",
      "metadata": {
        "colab": {
          "base_uri": "https://localhost:8080/"
        },
        "id": "f89bf23a",
        "outputId": "edbf431a-bc76-4aba-c440-cec4f63a65d8"
      },
      "outputs": [
        {
          "output_type": "stream",
          "name": "stdout",
          "text": [
            "Python: 3.12.11 (main, Jun  4 2025, 08:56:18) [GCC 11.4.0]\n",
            "Platform: Linux-6.1.123+-x86_64-with-glibc2.35\n",
            "PyTorch: 2.8.0+cu126\n",
            "CUDA available: True\n",
            "CUDA device: Tesla T4\n"
          ]
        }
      ],
      "source": [
        "import sys, platform, torch\n",
        "print(\"Python:\", sys.version)\n",
        "print(\"Platform:\", platform.platform())\n",
        "print(\"PyTorch:\", torch.__version__)\n",
        "print(\"CUDA available:\", torch.cuda.is_available())\n",
        "print(\"CUDA device:\", torch.cuda.get_device_name(0) if torch.cuda.is_available() else \"CPU only\")"
      ]
    },
    {
      "cell_type": "markdown",
      "id": "d1d9e037",
      "metadata": {
        "id": "d1d9e037"
      },
      "source": [
        "## 1) Install dependencies\n",
        "- `kagglehub` to fetch the dataset (no Kaggle API token needed).\n",
        "- `timm` for high‑quality pretrained backbones."
      ]
    },
    {
      "cell_type": "code",
      "execution_count": 2,
      "id": "3574e0db",
      "metadata": {
        "colab": {
          "base_uri": "https://localhost:8080/"
        },
        "id": "3574e0db",
        "outputId": "64f6e89f-710c-4ae2-df99-8e8dc57315e0"
      },
      "outputs": [
        {
          "output_type": "stream",
          "name": "stdout",
          "text": [
            "\u001b[?25l   \u001b[90m━━━━━━━━━━━━━━━━━━━━━━━━━━━━━━━━━━━━━━━━\u001b[0m \u001b[32m0.0/68.3 kB\u001b[0m \u001b[31m?\u001b[0m eta \u001b[36m-:--:--\u001b[0m\r\u001b[2K   \u001b[90m━━━━━━━━━━━━━━━━━━━━━━━━━━━━━━━━━━━━━━━━\u001b[0m \u001b[32m68.3/68.3 kB\u001b[0m \u001b[31m5.3 MB/s\u001b[0m eta \u001b[36m0:00:00\u001b[0m\n",
            "\u001b[?25h\u001b[?25l   \u001b[90m━━━━━━━━━━━━━━━━━━━━━━━━━━━━━━━━━━━━━━━━\u001b[0m \u001b[32m0.0/8.7 MB\u001b[0m \u001b[31m?\u001b[0m eta \u001b[36m-:--:--\u001b[0m\r\u001b[2K   \u001b[91m━━━━━━━━━━━━━\u001b[0m\u001b[91m╸\u001b[0m\u001b[90m━━━━━━━━━━━━━━━━━━━━━━━━━━\u001b[0m \u001b[32m2.9/8.7 MB\u001b[0m \u001b[31m85.9 MB/s\u001b[0m eta \u001b[36m0:00:01\u001b[0m\r\u001b[2K   \u001b[91m━━━━━━━━━━━━━━━━━━━━━━━━━━━━━━━━━━\u001b[0m\u001b[91m╸\u001b[0m\u001b[90m━━━━━\u001b[0m \u001b[32m7.5/8.7 MB\u001b[0m \u001b[31m105.5 MB/s\u001b[0m eta \u001b[36m0:00:01\u001b[0m\r\u001b[2K   \u001b[91m━━━━━━━━━━━━━━━━━━━━━━━━━━━━━━━━━━━━━━━\u001b[0m\u001b[91m╸\u001b[0m \u001b[32m8.7/8.7 MB\u001b[0m \u001b[31m109.3 MB/s\u001b[0m eta \u001b[36m0:00:01\u001b[0m\r\u001b[2K   \u001b[90m━━━━━━━━━━━━━━━━━━━━━━━━━━━━━━━━━━━━━━━━\u001b[0m \u001b[32m8.7/8.7 MB\u001b[0m \u001b[31m75.2 MB/s\u001b[0m eta \u001b[36m0:00:00\u001b[0m\n",
            "\u001b[?25h\u001b[?25l   \u001b[90m━━━━━━━━━━━━━━━━━━━━━━━━━━━━━━━━━━━━━━━━\u001b[0m \u001b[32m0.0/9.5 MB\u001b[0m \u001b[31m?\u001b[0m eta \u001b[36m-:--:--\u001b[0m\r\u001b[2K   \u001b[91m━━━━━━━━━━━━━━━━━━\u001b[0m\u001b[91m╸\u001b[0m\u001b[90m━━━━━━━━━━━━━━━━━━━━━\u001b[0m \u001b[32m4.5/9.5 MB\u001b[0m \u001b[31m134.4 MB/s\u001b[0m eta \u001b[36m0:00:01\u001b[0m\r\u001b[2K   \u001b[91m━━━━━━━━━━━━━━━━━━━━━━━━━━━━━━━━━━━━━━━\u001b[0m\u001b[91m╸\u001b[0m \u001b[32m9.5/9.5 MB\u001b[0m \u001b[31m148.0 MB/s\u001b[0m eta \u001b[36m0:00:01\u001b[0m\r\u001b[2K   \u001b[90m━━━━━━━━━━━━━━━━━━━━━━━━━━━━━━━━━━━━━━━━\u001b[0m \u001b[32m9.5/9.5 MB\u001b[0m \u001b[31m93.6 MB/s\u001b[0m eta \u001b[36m0:00:00\u001b[0m\n",
            "\u001b[?25h"
          ]
        }
      ],
      "source": [
        "# If running locally, you may want to remove the leading '!' and run in your shell\n",
        "%pip -q install kagglehub timm torch torchvision matplotlib scikit-learn --upgrade"
      ]
    },
    {
      "cell_type": "markdown",
      "id": "c7d56dbf",
      "metadata": {
        "id": "c7d56dbf"
      },
      "source": [
        "## 2) Download the dataset with kagglehub\n",
        "This returns the local directory where the dataset was downloaded (cached after the first run)."
      ]
    },
    {
      "cell_type": "code",
      "execution_count": 3,
      "id": "fa880d3a",
      "metadata": {
        "colab": {
          "base_uri": "https://localhost:8080/"
        },
        "id": "fa880d3a",
        "outputId": "38a0024f-ab1c-406f-8cb0-3da7ed60b898"
      },
      "outputs": [
        {
          "output_type": "stream",
          "name": "stdout",
          "text": [
            "Downloading from https://www.kaggle.com/api/v1/datasets/download/eduardo4jesus/stanford-cars-dataset?dataset_version_number=1...\n"
          ]
        },
        {
          "output_type": "stream",
          "name": "stderr",
          "text": [
            "100%|██████████| 1.82G/1.82G [01:20<00:00, 24.4MB/s]"
          ]
        },
        {
          "output_type": "stream",
          "name": "stdout",
          "text": [
            "Extracting files...\n"
          ]
        },
        {
          "output_type": "stream",
          "name": "stderr",
          "text": [
            "\n"
          ]
        },
        {
          "output_type": "stream",
          "name": "stdout",
          "text": [
            "Downloaded to: /root/.cache/kagglehub/datasets/eduardo4jesus/stanford-cars-dataset/versions/1\n",
            "Directory contents:\n",
            " • /root/.cache/kagglehub/datasets/eduardo4jesus/stanford-cars-dataset/versions/1/car_devkit\n",
            " • /root/.cache/kagglehub/datasets/eduardo4jesus/stanford-cars-dataset/versions/1/cars_test\n",
            " • /root/.cache/kagglehub/datasets/eduardo4jesus/stanford-cars-dataset/versions/1/cars_train\n"
          ]
        }
      ],
      "source": [
        "import os, pathlib, kagglehub\n",
        "\n",
        "KAGGLE_PATH = \"eduardo4jesus/stanford-cars-dataset\"\n",
        "dataset_dir = kagglehub.dataset_download(KAGGLE_PATH)\n",
        "dataset_dir = pathlib.Path(dataset_dir)\n",
        "print(\"Downloaded to:\", dataset_dir)\n",
        "print(\"Directory contents:\")\n",
        "for p in sorted(dataset_dir.iterdir()):\n",
        "    print(\" •\", p)"
      ]
    },
    {
      "cell_type": "markdown",
      "id": "cde779e9",
      "metadata": {
        "id": "cde779e9"
      },
      "source": [
        "## 3) Auto‑detect the data root (class‑folder layout)\n",
        "Many Kaggle uploads of Stanford Cars already ship as `train/<class>/*.jpg` and `test/<class>/*.jpg` or as a single folder with class subfolders.\n",
        "\n",
        "The helper below searches for a directory whose immediate children are **mostly** subfolders each containing images — a good heuristic for `torchvision.datasets.ImageFolder`."
      ]
    },
    {
      "cell_type": "code",
      "execution_count": 4,
      "id": "7e2de0c8",
      "metadata": {
        "colab": {
          "base_uri": "https://localhost:8080/"
        },
        "id": "7e2de0c8",
        "outputId": "c81dba00-275a-4ff3-b566-0e1474fb01ff"
      },
      "outputs": [
        {
          "output_type": "stream",
          "name": "stderr",
          "text": [
            "/tmp/ipython-input-522195962.py:3: DeprecationWarning: 'imghdr' is deprecated and slated for removal in Python 3.13\n",
            "  import imghdr\n"
          ]
        },
        {
          "output_type": "stream",
          "name": "stdout",
          "text": [
            "Auto‑detected class root: None\n"
          ]
        }
      ],
      "source": [
        "from pathlib import Path\n",
        "from typing import Optional, Tuple\n",
        "import imghdr\n",
        "\n",
        "def looks_like_class_root(p: Path, min_classes: int = 10) -> bool:\n",
        "    if not p.is_dir():\n",
        "        return False\n",
        "    subdirs = [d for d in p.iterdir() if d.is_dir()]\n",
        "    if len(subdirs) < min_classes:\n",
        "        return False\n",
        "    # Check a few files in each subdir to see if they're images\n",
        "    ok = 0\n",
        "    for d in subdirs[:min(30, len(subdirs))]:\n",
        "        imgs = list(d.glob(\"*.jpg\")) + list(d.glob(\"*.jpeg\")) + list(d.glob(\"*.png\"))\n",
        "        if imgs:\n",
        "            # very light check\n",
        "            ok += 1\n",
        "    return ok >= max(5, min_classes // 3)\n",
        "\n",
        "def find_class_root(base: Path) -> Optional[Path]:\n",
        "    # First try common names\n",
        "    for name in [\"train\", \"training\", \"cars_train\", \"images\", \"data\", \"Stanford Cars Dataset\", \"stanford cars\"]:\n",
        "        cand = base / name\n",
        "        if looks_like_class_root(cand):\n",
        "            return cand\n",
        "    # Walk depth‑2\n",
        "    for p in base.rglob(\"*\"):\n",
        "        if p.is_dir() and looks_like_class_root(p):\n",
        "            return p\n",
        "    return None\n",
        "\n",
        "candidate = find_class_root(dataset_dir)\n",
        "print(\"Auto‑detected class root:\", candidate)"
      ]
    },
    {
      "cell_type": "code",
      "source": [
        "# 3.5 (robust) — Build processed/train & processed/val by indexing files recursively\n",
        "from pathlib import Path\n",
        "import numpy as np, shutil, sys, subprocess\n",
        "\n",
        "# Ensure SciPy\n",
        "try:\n",
        "    import scipy.io as sio\n",
        "except Exception:\n",
        "    subprocess.check_call([sys.executable, \"-m\", \"pip\", \"install\", \"-q\", \"scipy\"])\n",
        "    import scipy.io as sio\n",
        "\n",
        "def find_devkit(base: Path):\n",
        "    for cand in [base / \"car_devkit\", base / \"devkit\", base / \"CarDevKit\"]:\n",
        "        if cand.exists():\n",
        "            return cand\n",
        "    for p in base.rglob(\"cars_meta.mat\"):\n",
        "        return p.parent\n",
        "    return None\n",
        "\n",
        "def load_class_names(meta_mat: Path):\n",
        "    meta = sio.loadmat(meta_mat)\n",
        "    if \"class_names\" in meta:\n",
        "        raw = meta[\"class_names\"]\n",
        "    elif \"classnames\" in meta:\n",
        "        raw = meta[\"classnames\"]\n",
        "    else:\n",
        "        raw = None\n",
        "        for k, v in meta.items():\n",
        "            if isinstance(v, np.ndarray) and v.dtype == \"O\":\n",
        "                raw = v; break\n",
        "        if raw is None:\n",
        "            raise KeyError(\"Could not locate class_names in meta .mat file\")\n",
        "    raw = np.squeeze(raw).tolist()\n",
        "    names = []\n",
        "    for c in raw:\n",
        "        if isinstance(c, np.ndarray):\n",
        "            c = np.squeeze(c)\n",
        "            try: c = c.item()\n",
        "            except Exception: pass\n",
        "        names.append(str(c))\n",
        "    return names\n",
        "\n",
        "def load_annos(mat_path: Path | None):\n",
        "    if mat_path is None or not mat_path.exists():\n",
        "        return []\n",
        "    m = sio.loadmat(mat_path)\n",
        "    for key in [\"annotations\", \"annotations_test\", \"cars_test_annos\", \"cars_train_annos\"]:\n",
        "        if key in m:\n",
        "            arr = np.squeeze(m[key])\n",
        "            break\n",
        "    else:\n",
        "        raise KeyError(f\"No annotations array in {mat_path.name}. Keys: {list(m.keys())}\")\n",
        "    ann = []\n",
        "    for i in range(arr.shape[0]):\n",
        "        rec = arr[i]\n",
        "        d = {}\n",
        "        for name in rec.dtype.names:\n",
        "            val = rec[name]\n",
        "            if name == \"fname\":\n",
        "                v = val\n",
        "                while isinstance(v, np.ndarray):\n",
        "                    v = np.squeeze(v)\n",
        "                    if v.shape == ():\n",
        "                        v = v.item()\n",
        "                        break\n",
        "                d[\"fname\"] = str(v)\n",
        "            elif name == \"class\":\n",
        "                d[\"class\"] = int(np.squeeze(val))\n",
        "            else:\n",
        "                try: d[name] = int(np.squeeze(val))\n",
        "                except Exception: d[name] = val\n",
        "        ann.append(d)\n",
        "    return ann\n",
        "\n",
        "def safe_link_or_copy(src: Path, dst: Path):\n",
        "    dst.parent.mkdir(parents=True, exist_ok=True)\n",
        "    try:\n",
        "        dst.symlink_to(src.resolve())\n",
        "    except Exception:\n",
        "        shutil.copy2(src, dst)\n",
        "\n",
        "# -- paths\n",
        "cars_train = dataset_dir / \"cars_train\"\n",
        "cars_test  = dataset_dir / \"cars_test\"\n",
        "devkit     = find_devkit(dataset_dir)\n",
        "assert cars_train.exists(), f\"Missing {cars_train}\"\n",
        "assert devkit is not None and devkit.exists(), f\"Could not find devkit under {dataset_dir}\"\n",
        "\n",
        "meta_mat  = next(devkit.rglob(\"cars_meta.mat\"))\n",
        "# train/test annos (test with labels may not exist)\n",
        "train_mat = next(devkit.rglob(\"cars_train_annos*.mat\"))\n",
        "test_mats = list(devkit.rglob(\"cars_test_annos_withlabels*.mat\"))\n",
        "test_mat  = test_mats[0] if test_mats else None\n",
        "\n",
        "class_names = load_class_names(meta_mat)\n",
        "print(\"Detected classes:\", len(class_names))\n",
        "\n",
        "# Build filename index for robust matching (recursive, case-insensitive)\n",
        "def build_index(root: Path):\n",
        "    index = {}\n",
        "    total = 0\n",
        "    for ext in (\"*.jpg\",\"*.jpeg\",\"*.png\",\"*.JPG\",\"*.JPEG\",\"*.PNG\"):\n",
        "        for p in root.rglob(ext):\n",
        "            index[p.name.lower()] = p\n",
        "            total += 1\n",
        "    return index, total\n",
        "\n",
        "train_index, n_train_files = build_index(cars_train)\n",
        "test_index,  n_test_files  = build_index(cars_test)\n",
        "print(f\"Indexed {n_train_files} train files and {n_test_files} test files.\")\n",
        "\n",
        "# Load annotations\n",
        "train_ann = load_annos(train_mat)\n",
        "test_ann  = load_annos(test_mat) if test_mat else []\n",
        "\n",
        "# Outputs\n",
        "processed = dataset_dir / \"processed\"\n",
        "train_out = processed / \"train\"\n",
        "val_out   = processed / \"val\"\n",
        "train_out.mkdir(parents=True, exist_ok=True)\n",
        "val_out.mkdir(parents=True, exist_ok=True)\n",
        "\n",
        "# Split 80/20 by class from *train* annotations\n",
        "from collections import defaultdict\n",
        "by_class = defaultdict(list)\n",
        "for a in train_ann:\n",
        "    by_class[a[\"class\"]].append(a)\n",
        "\n",
        "rng = np.random.default_rng(42)\n",
        "moved = 0\n",
        "missing = 0\n",
        "\n",
        "for cls_id, items in by_class.items():\n",
        "    cls_name = class_names[cls_id - 1]\n",
        "    rng.shuffle(items)\n",
        "    k = max(1, int(0.2 * len(items)))\n",
        "    val_items   = items[:k]\n",
        "    train_items = items[k:]\n",
        "\n",
        "    for a in train_items + val_items:\n",
        "        fname = Path(a[\"fname\"]).name.lower()   # match by basename\n",
        "        src = train_index.get(fname)\n",
        "        if src is None:\n",
        "            missing += 1\n",
        "            continue\n",
        "        dst_root = val_out if a in val_items else train_out\n",
        "        dst = dst_root / cls_name / src.name\n",
        "        safe_link_or_copy(src, dst)\n",
        "        moved += 1\n",
        "\n",
        "# Optionally add labeled test to validation\n",
        "added_test = 0\n",
        "for a in test_ann:\n",
        "    fname = Path(a[\"fname\"]).name.lower()\n",
        "    src = test_index.get(fname)\n",
        "    if src is None:\n",
        "        continue\n",
        "    cls_name = class_names[a[\"class\"] - 1]\n",
        "    dst = val_out / cls_name / src.name\n",
        "    safe_link_or_copy(src, dst)\n",
        "    added_test += 1\n",
        "\n",
        "print(f\"Placed {moved} images into {processed} (symlinked where possible).\")\n",
        "print(f\"Added {added_test} labeled test images to validation.\")\n",
        "print(f\"Missing from index: {missing}\")\n",
        "\n",
        "# Final check\n",
        "print(\"Processed roots ready:\", train_out, \"|\", val_out,\n",
        "      \"| train exists:\", train_out.exists(), \"val exists:\", val_out.exists())\n"
      ],
      "metadata": {
        "colab": {
          "base_uri": "https://localhost:8080/"
        },
        "id": "Xw2Om-Qt0U2W",
        "outputId": "0cd68f14-0b4f-4ad8-e3ac-82bc74155c42"
      },
      "id": "Xw2Om-Qt0U2W",
      "execution_count": 24,
      "outputs": [
        {
          "output_type": "stream",
          "name": "stdout",
          "text": [
            "Detected classes: 196\n",
            "Indexed 8144 train files and 8041 test files.\n",
            "Placed 8144 images into /root/.cache/kagglehub/datasets/eduardo4jesus/stanford-cars-dataset/versions/1/processed (symlinked where possible).\n",
            "Added 0 labeled test images to validation.\n",
            "Missing from index: 0\n",
            "Processed roots ready: /root/.cache/kagglehub/datasets/eduardo4jesus/stanford-cars-dataset/versions/1/processed/train | /root/.cache/kagglehub/datasets/eduardo4jesus/stanford-cars-dataset/versions/1/processed/val | train exists: True val exists: True\n"
          ]
        }
      ]
    },
    {
      "cell_type": "markdown",
      "id": "d570436f",
      "metadata": {
        "id": "d570436f"
      },
      "source": [
        "## 4) Config\n",
        "\n",
        "If `candidate` above is `None` or not what you expect, set `DATA_ROOT` manually to the folder that contains **class subfolders**."
      ]
    },
    {
      "cell_type": "code",
      "execution_count": 25,
      "id": "271c9db2",
      "metadata": {
        "colab": {
          "base_uri": "https://localhost:8080/"
        },
        "id": "271c9db2",
        "outputId": "259bc28d-ff1a-4f4d-d61c-421b91839d2c"
      },
      "outputs": [
        {
          "output_type": "stream",
          "name": "stdout",
          "text": [
            "Using training root: /root/.cache/kagglehub/datasets/eduardo4jesus/stanford-cars-dataset/versions/1/processed/train\n",
            "Using validation root: /root/.cache/kagglehub/datasets/eduardo4jesus/stanford-cars-dataset/versions/1/processed/val\n"
          ]
        }
      ],
      "source": [
        "from pathlib import Path\n",
        "\n",
        "DATA_ROOT = dataset_dir / \"processed\" / \"train\"\n",
        "VAL_ROOT  = dataset_dir / \"processed\" / \"val\"\n",
        "\n",
        "assert DATA_ROOT.exists(), f\"DATA_ROOT does not exist: {DATA_ROOT}\"\n",
        "assert VAL_ROOT.exists(), f\"VAL_ROOT does not exist: {VAL_ROOT}\"\n",
        "\n",
        "print(\"Using training root:\", DATA_ROOT)\n",
        "print(\"Using validation root:\", VAL_ROOT)"
      ]
    },
    {
      "cell_type": "markdown",
      "id": "605fc7c0",
      "metadata": {
        "id": "605fc7c0"
      },
      "source": [
        "## 5) Dataset & Dataloaders\n",
        "\n",
        "We’ll use `ImageFolder`, create a **train/val split** (80/20), and apply standard augmentations."
      ]
    },
    {
      "cell_type": "code",
      "execution_count": 26,
      "id": "e9ffaaf5",
      "metadata": {
        "colab": {
          "base_uri": "https://localhost:8080/"
        },
        "id": "e9ffaaf5",
        "outputId": "4bb8bdb8-dc1c-45a9-ab24-487754f964f0"
      },
      "outputs": [
        {
          "output_type": "stream",
          "name": "stdout",
          "text": [
            "Classes: 196\n",
            "Example classes: ['AM General Hummer SUV 2000', 'Acura Integra Type R 2001', 'Acura RL Sedan 2012', 'Acura TL Sedan 2012', 'Acura TL Type-S 2008', 'Acura TSX Sedan 2012', 'Acura ZDX Hatchback 2012', 'Aston Martin V8 Vantage Convertible 2012', 'Aston Martin V8 Vantage Coupe 2012', 'Aston Martin Virage Convertible 2012']\n"
          ]
        }
      ],
      "source": [
        "from torchvision import datasets, transforms\n",
        "from torch.utils.data import DataLoader\n",
        "\n",
        "IMG_SIZE = 224\n",
        "train_tfms = transforms.Compose([\n",
        "    transforms.RandomResizedCrop(IMG_SIZE, scale=(0.7, 1.0)),\n",
        "    transforms.RandomHorizontalFlip(),\n",
        "    transforms.ToTensor(),\n",
        "    transforms.Normalize((0.485, 0.456, 0.406), (0.229, 0.224, 0.225)),\n",
        "])\n",
        "\n",
        "val_tfms = transforms.Compose([\n",
        "    transforms.Resize(int(IMG_SIZE*1.15)),\n",
        "    transforms.CenterCrop(IMG_SIZE),\n",
        "    transforms.ToTensor(),\n",
        "    transforms.Normalize((0.485, 0.456, 0.406), (0.229, 0.224, 0.225)),\n",
        "])\n",
        "\n",
        "train_ds = datasets.ImageFolder(str(DATA_ROOT), transform=train_tfms)\n",
        "val_ds   = datasets.ImageFolder(str(VAL_ROOT),  transform=val_tfms)\n",
        "\n",
        "n_classes = len(train_ds.classes)\n",
        "print(\"Classes:\", n_classes)\n",
        "print(\"Example classes:\", train_ds.classes[:10])\n",
        "\n",
        "BATCH_SIZE = 32\n",
        "NUM_WORKERS = 2  # bump on Colab/desktop Linux if you like\n",
        "train_loader = DataLoader(train_ds, batch_size=BATCH_SIZE, shuffle=True,  num_workers=NUM_WORKERS, pin_memory=True)\n",
        "val_loader   = DataLoader(val_ds,   batch_size=BATCH_SIZE, shuffle=False, num_workers=NUM_WORKERS, pin_memory=True)\n"
      ]
    },
    {
      "cell_type": "markdown",
      "id": "d21505b2",
      "metadata": {
        "id": "d21505b2"
      },
      "source": [
        "## 6) Build the model (timm EfficientNet)\n",
        "\n",
        "We replace the classifier head to match `n_classes` and train with AdamW + cosine schedule. Mixed precision is used when CUDA is available."
      ]
    },
    {
      "cell_type": "code",
      "execution_count": 27,
      "id": "1b21b107",
      "metadata": {
        "colab": {
          "base_uri": "https://localhost:8080/",
          "height": 208,
          "referenced_widgets": [
            "83c509722c5e4f86b9cb5e12e6eee9f3",
            "4fdfff2ab417460997a80698b8027471",
            "25f02afb2d974f94831f99a1eeec2f91",
            "4b9f8099489741d799db0135617a11fd",
            "fde8ba35926545f0bfb3fa07e959ff2e",
            "984a01dcd804409488ed353ca3a56865",
            "10ed51d4f7b64166bcc988b23d3130cb",
            "16e957a078b54952af95f781e278da08",
            "ffa6ec8389214de7bfcd37395944e90f",
            "9cba549f8db9423eb4c4c43ccca6145e",
            "8a01c94500be4dc78eed92b992fa0c00"
          ]
        },
        "id": "1b21b107",
        "outputId": "2e0cc68a-3e0f-40bc-88d7-c9639f7e62c4"
      },
      "outputs": [
        {
          "output_type": "stream",
          "name": "stderr",
          "text": [
            "/usr/local/lib/python3.12/dist-packages/huggingface_hub/utils/_auth.py:94: UserWarning: \n",
            "The secret `HF_TOKEN` does not exist in your Colab secrets.\n",
            "To authenticate with the Hugging Face Hub, create a token in your settings tab (https://huggingface.co/settings/tokens), set it as secret in your Google Colab and restart your session.\n",
            "You will be able to reuse this secret in all of your notebooks.\n",
            "Please note that authentication is recommended but still optional to access public models or datasets.\n",
            "  warnings.warn(\n"
          ]
        },
        {
          "output_type": "display_data",
          "data": {
            "text/plain": [
              "model.safetensors:   0%|          | 0.00/21.4M [00:00<?, ?B/s]"
            ],
            "application/vnd.jupyter.widget-view+json": {
              "version_major": 2,
              "version_minor": 0,
              "model_id": "83c509722c5e4f86b9cb5e12e6eee9f3"
            }
          },
          "metadata": {}
        },
        {
          "output_type": "stream",
          "name": "stderr",
          "text": [
            "/tmp/ipython-input-1248361268.py:13: FutureWarning: `torch.cuda.amp.GradScaler(args...)` is deprecated. Please use `torch.amp.GradScaler('cuda', args...)` instead.\n",
            "  scaler = torch.cuda.amp.GradScaler(enabled=torch.cuda.is_available())\n"
          ]
        }
      ],
      "source": [
        "import timm, torch, torch.nn as nn\n",
        "from torch.optim import AdamW\n",
        "from torch.optim.lr_scheduler import CosineAnnealingLR\n",
        "\n",
        "device = torch.device(\"cuda\" if torch.cuda.is_available() else \"cpu\")\n",
        "\n",
        "model = timm.create_model(\"efficientnet_b0\", pretrained=True, num_classes=n_classes)\n",
        "model = model.to(device)\n",
        "\n",
        "criterion = nn.CrossEntropyLoss()\n",
        "optimizer = AdamW(model.parameters(), lr=3e-4, weight_decay=1e-4)\n",
        "scheduler = CosineAnnealingLR(optimizer, T_max=10)\n",
        "scaler = torch.cuda.amp.GradScaler(enabled=torch.cuda.is_available())\n",
        "\n",
        "def accuracy(logits, y):\n",
        "    preds = logits.argmax(dim=1)\n",
        "    return (preds == y).float().mean().item()"
      ]
    },
    {
      "cell_type": "markdown",
      "id": "679b3ced",
      "metadata": {
        "id": "679b3ced"
      },
      "source": [
        "## 7) Train loop with early stopping\n",
        "Saves the **best** checkpoint to `./checkpoints/best_model.pt`."
      ]
    },
    {
      "cell_type": "code",
      "execution_count": 30,
      "id": "1edaf152",
      "metadata": {
        "colab": {
          "base_uri": "https://localhost:8080/"
        },
        "id": "1edaf152",
        "outputId": "fbcf319b-2f13-494d-9aac-e77f9b9eeb4a"
      },
      "outputs": [
        {
          "output_type": "stream",
          "name": "stderr",
          "text": [
            "/tmp/ipython-input-1752825357.py:22: FutureWarning: `torch.cuda.amp.autocast(args...)` is deprecated. Please use `torch.amp.autocast('cuda', args...)` instead.\n",
            "  with torch.cuda.amp.autocast(enabled=torch.cuda.is_available()):\n"
          ]
        },
        {
          "output_type": "stream",
          "name": "stdout",
          "text": [
            "Epoch 01/10 | train_loss=4.9010 train_acc=0.0577 val_acc=0.1939 | 84.3s\n",
            "  ✓ Saved new best: checkpoints/best_model.pt\n",
            "Epoch 02/10 | train_loss=2.9260 train_acc=0.4306 val_acc=0.4416 | 64.4s\n",
            "  ✓ Saved new best: checkpoints/best_model.pt\n",
            "Epoch 03/10 | train_loss=1.4596 train_acc=0.7319 val_acc=0.5812 | 64.4s\n",
            "  ✓ Saved new best: checkpoints/best_model.pt\n",
            "Epoch 04/10 | train_loss=0.7395 train_acc=0.8723 val_acc=0.6440 | 62.8s\n",
            "  ✓ Saved new best: checkpoints/best_model.pt\n",
            "Epoch 05/10 | train_loss=0.3957 train_acc=0.9395 val_acc=0.6724 | 62.6s\n",
            "  ✓ Saved new best: checkpoints/best_model.pt\n",
            "Epoch 06/10 | train_loss=0.2306 train_acc=0.9697 val_acc=0.6809 | 64.0s\n",
            "  ✓ Saved new best: checkpoints/best_model.pt\n",
            "Epoch 07/10 | train_loss=0.1449 train_acc=0.9824 val_acc=0.7024 | 62.7s\n",
            "  ✓ Saved new best: checkpoints/best_model.pt\n",
            "Epoch 08/10 | train_loss=0.0940 train_acc=0.9918 val_acc=0.7145 | 62.6s\n",
            "  ✓ Saved new best: checkpoints/best_model.pt\n",
            "Epoch 09/10 | train_loss=0.0734 train_acc=0.9915 val_acc=0.7140 | 62.8s\n",
            "Epoch 10/10 | train_loss=0.0565 train_acc=0.9938 val_acc=0.7128 | 64.2s\n"
          ]
        }
      ],
      "source": [
        "import os, math, time, numpy as np, torch\n",
        "from pathlib import Path\n",
        "\n",
        "ckpt_dir = Path(\"./checkpoints\")\n",
        "ckpt_dir.mkdir(parents=True, exist_ok=True)\n",
        "best_path = ckpt_dir / \"best_model.pt\"\n",
        "\n",
        "EPOCHS = 10\n",
        "patience = 3\n",
        "best_val = -1.0\n",
        "stale = 0\n",
        "\n",
        "for epoch in range(1, EPOCHS+1):\n",
        "    model.train()\n",
        "    total_loss = 0.0\n",
        "    total_acc = 0.0\n",
        "    n_batches = 0\n",
        "    start = time.time()\n",
        "    for x, y in train_loader:\n",
        "        x, y = x.to(device), y.to(device)\n",
        "        optimizer.zero_grad(set_to_none=True)\n",
        "        with torch.cuda.amp.autocast(enabled=torch.cuda.is_available()):\n",
        "            logits = model(x)\n",
        "            loss = criterion(logits, y)\n",
        "        scaler.scale(loss).asynchronous().backward() if hasattr(scaler, \"asynchronous\") else scaler.scale(loss).backward()\n",
        "        scaler.step(optimizer)\n",
        "        scaler.update()\n",
        "        scheduler.step()\n",
        "\n",
        "        total_loss += loss.item()\n",
        "        total_acc  += accuracy(logits.detach(), y)\n",
        "        n_batches  += 1\n",
        "\n",
        "    train_loss = total_loss / max(1, n_batches)\n",
        "    train_acc  = total_acc / max(1, n_batches)\n",
        "\n",
        "    # Validation\n",
        "    model.eval()\n",
        "    val_acc = 0.0\n",
        "    val_batches = 0\n",
        "    with torch.no_grad():\n",
        "        for x, y in val_loader:\n",
        "            x, y = x.to(device), y.to(device)\n",
        "            logits = model(x)\n",
        "            val_acc += accuracy(logits, y)\n",
        "            val_batches += 1\n",
        "\n",
        "    val_acc /= max(1, val_batches)\n",
        "\n",
        "    elapsed = time.time() - start\n",
        "    print(f\"Epoch {epoch:02d}/{EPOCHS} | train_loss={train_loss:.4f} train_acc={train_acc:.4f} val_acc={val_acc:.4f} | {elapsed:.1f}s\")\n",
        "\n",
        "    # Early stopping on val_acc\n",
        "    if val_acc > best_val:\n",
        "        best_val = val_acc\n",
        "        stale = 0\n",
        "        torch.save({\"model\": model.state_dict(), \"classes\": datasets.ImageFolder(root=str(DATA_ROOT)).classes}, best_path)\n",
        "        print(\"  ✓ Saved new best:\", best_path)\n",
        "    else:\n",
        "        stale += 1\n",
        "        if stale >= patience:\n",
        "            print(\"Early stopping.\")\n",
        "            break"
      ]
    },
    {
      "cell_type": "markdown",
      "id": "191ba03b",
      "metadata": {
        "id": "191ba03b"
      },
      "source": [
        "## 8) Evaluate and visualize confusion matrix"
      ]
    },
    {
      "cell_type": "code",
      "execution_count": 31,
      "id": "dfdc4fa7",
      "metadata": {
        "colab": {
          "base_uri": "https://localhost:8080/",
          "height": 1000
        },
        "id": "dfdc4fa7",
        "outputId": "6b14b1fb-9185-46c8-f5b9-e33d1e1123d6"
      },
      "outputs": [
        {
          "output_type": "stream",
          "name": "stderr",
          "text": [
            "/usr/local/lib/python3.12/dist-packages/sklearn/metrics/_classification.py:1731: UndefinedMetricWarning: Precision is ill-defined and being set to 0.0 in labels with no predicted samples. Use `zero_division` parameter to control this behavior.\n",
            "  _warn_prf(average, modifier, f\"{metric.capitalize()} is\", result.shape[0])\n",
            "/usr/local/lib/python3.12/dist-packages/sklearn/metrics/_classification.py:1731: UndefinedMetricWarning: Precision is ill-defined and being set to 0.0 in labels with no predicted samples. Use `zero_division` parameter to control this behavior.\n",
            "  _warn_prf(average, modifier, f\"{metric.capitalize()} is\", result.shape[0])\n",
            "/usr/local/lib/python3.12/dist-packages/sklearn/metrics/_classification.py:1731: UndefinedMetricWarning: Precision is ill-defined and being set to 0.0 in labels with no predicted samples. Use `zero_division` parameter to control this behavior.\n",
            "  _warn_prf(average, modifier, f\"{metric.capitalize()} is\", result.shape[0])\n"
          ]
        },
        {
          "output_type": "stream",
          "name": "stdout",
          "text": [
            "                                                        precision    recall  f1-score   support\n",
            "\n",
            "                            AM General Hummer SUV 2000       0.75      1.00      0.86         9\n",
            "                             Acura Integra Type R 2001       0.64      0.78      0.70         9\n",
            "                                   Acura RL Sedan 2012       1.00      0.17      0.29         6\n",
            "                                   Acura TL Sedan 2012       0.88      0.88      0.88         8\n",
            "                                  Acura TL Type-S 2008       0.67      0.75      0.71         8\n",
            "                                  Acura TSX Sedan 2012       0.71      0.62      0.67         8\n",
            "                              Acura ZDX Hatchback 2012       1.00      0.86      0.92         7\n",
            "              Aston Martin V8 Vantage Convertible 2012       0.17      0.11      0.13         9\n",
            "                    Aston Martin V8 Vantage Coupe 2012       0.44      0.50      0.47         8\n",
            "                  Aston Martin Virage Convertible 2012       0.38      0.50      0.43         6\n",
            "                        Aston Martin Virage Coupe 2012       0.67      0.86      0.75         7\n",
            "                                   Audi 100 Sedan 1994       0.56      0.62      0.59         8\n",
            "                                   Audi 100 Wagon 1994       0.50      0.38      0.43         8\n",
            "                                    Audi A5 Coupe 2012       0.46      0.75      0.57         8\n",
            "                                    Audi R8 Coupe 2012       0.56      0.62      0.59         8\n",
            "                            Audi RS 4 Convertible 2008       0.83      0.71      0.77         7\n",
            "                                    Audi S4 Sedan 2007       0.75      0.67      0.71         9\n",
            "                                    Audi S4 Sedan 2012       0.60      0.75      0.67         8\n",
            "                              Audi S5 Convertible 2012       0.78      0.88      0.82         8\n",
            "                                    Audi S5 Coupe 2012       0.00      0.00      0.00         8\n",
            "                                    Audi S6 Sedan 2011       0.70      0.78      0.74         9\n",
            "                                Audi TT Hatchback 2011       0.46      0.75      0.57         8\n",
            "                                 Audi TT RS Coupe 2012       1.00      0.62      0.77         8\n",
            "                                   Audi TTS Coupe 2012       0.33      0.25      0.29         8\n",
            "                                    Audi V8 Sedan 1994       0.67      0.75      0.71         8\n",
            "                         BMW 1 Series Convertible 2012       0.67      0.57      0.62         7\n",
            "                               BMW 1 Series Coupe 2012       1.00      0.62      0.77         8\n",
            "                               BMW 3 Series Sedan 2012       0.67      0.50      0.57         8\n",
            "                               BMW 3 Series Wagon 2012       0.80      0.50      0.62         8\n",
            "                         BMW 6 Series Convertible 2007       0.67      0.75      0.71         8\n",
            "                         BMW ActiveHybrid 5 Sedan 2012       0.56      0.83      0.67         6\n",
            "                                     BMW M3 Coupe 2012       0.62      0.89      0.73         9\n",
            "                                     BMW M5 Sedan 2010       1.00      0.38      0.55         8\n",
            "                               BMW M6 Convertible 2010       0.64      0.88      0.74         8\n",
            "                                       BMW X3 SUV 2012       1.00      0.71      0.83         7\n",
            "                                       BMW X5 SUV 2007       0.58      0.88      0.70         8\n",
            "                                       BMW X6 SUV 2012       0.57      0.50      0.53         8\n",
            "                               BMW Z4 Convertible 2012       1.00      0.25      0.40         8\n",
            "                             Bentley Arnage Sedan 2009       0.78      1.00      0.88         7\n",
            "            Bentley Continental Flying Spur Sedan 2007       0.64      0.78      0.70         9\n",
            "                     Bentley Continental GT Coupe 2007       1.00      0.33      0.50         9\n",
            "                     Bentley Continental GT Coupe 2012       0.50      0.71      0.59         7\n",
            "Bentley Continental Supersports Conv. Convertible 2012       0.57      0.57      0.57         7\n",
            "                           Bentley Mulsanne Sedan 2011       1.00      0.57      0.73         7\n",
            "                  Bugatti Veyron 16.4 Convertible 2009       1.00      0.50      0.67         6\n",
            "                        Bugatti Veyron 16.4 Coupe 2009       0.86      0.75      0.80         8\n",
            "                                Buick Enclave SUV 2012       0.80      1.00      0.89         8\n",
            "                                Buick Rainier SUV 2007       0.70      0.88      0.78         8\n",
            "                                   Buick Regal GS 2012       1.00      0.57      0.73         7\n",
            "                               Buick Verano Sedan 2012       1.00      0.43      0.60         7\n",
            "                             Cadillac CTS-V Sedan 2012       0.71      0.62      0.67         8\n",
            "                   Cadillac Escalade EXT Crew Cab 2007       0.88      0.78      0.82         9\n",
            "                                 Cadillac SRX SUV 2012       0.73      1.00      0.84         8\n",
            "                     Chevrolet Avalanche Crew Cab 2012       0.67      0.67      0.67         9\n",
            "                     Chevrolet Camaro Convertible 2012       1.00      0.33      0.50         9\n",
            "                              Chevrolet Cobalt SS 2010       0.75      0.75      0.75         8\n",
            "                   Chevrolet Corvette Convertible 2012       0.40      0.50      0.44         8\n",
            "       Chevrolet Corvette Ron Fellows Edition Z06 2007       0.71      0.71      0.71         7\n",
            "                           Chevrolet Corvette ZR1 2012       0.43      0.33      0.38         9\n",
            "                      Chevrolet Express Cargo Van 2007       0.00      0.00      0.00         6\n",
            "                            Chevrolet Express Van 2007       0.40      0.86      0.55         7\n",
            "                                 Chevrolet HHR SS 2010       0.67      0.86      0.75         7\n",
            "                           Chevrolet Impala Sedan 2007       0.75      0.75      0.75         8\n",
            "                    Chevrolet Malibu Hybrid Sedan 2010       0.36      0.57      0.44         7\n",
            "                           Chevrolet Malibu Sedan 2007       0.67      0.44      0.53         9\n",
            "                      Chevrolet Monte Carlo Coupe 2007       0.56      0.56      0.56         9\n",
            "    Chevrolet Silverado 1500 Classic Extended Cab 2007       0.70      0.88      0.78         8\n",
            "            Chevrolet Silverado 1500 Extended Cab 2012       0.20      0.38      0.26         8\n",
            "         Chevrolet Silverado 1500 Hybrid Crew Cab 2012       0.25      0.12      0.17         8\n",
            "             Chevrolet Silverado 1500 Regular Cab 2012       0.25      0.12      0.17         8\n",
            "           Chevrolet Silverado 2500HD Regular Cab 2012       0.44      0.57      0.50         7\n",
            "                            Chevrolet Sonic Sedan 2012       0.46      0.75      0.57         8\n",
            "                       Chevrolet Tahoe Hybrid SUV 2012       0.62      0.71      0.67         7\n",
            "                         Chevrolet TrailBlazer SS 2009       0.89      1.00      0.94         8\n",
            "                           Chevrolet Traverse SUV 2012       1.00      1.00      1.00         8\n",
            "                               Chrysler 300 SRT-8 2010       0.71      0.56      0.62         9\n",
            "                               Chrysler Aspen SUV 2009       0.71      0.62      0.67         8\n",
            "                   Chrysler Crossfire Convertible 2008       0.89      1.00      0.94         8\n",
            "                  Chrysler PT Cruiser Convertible 2008       1.00      0.67      0.80         9\n",
            "                     Chrysler Sebring Convertible 2010       0.88      0.88      0.88         8\n",
            "                Chrysler Town and Country Minivan 2012       1.00      0.57      0.73         7\n",
            "                              Daewoo Nubira Wagon 2002       0.60      0.67      0.63         9\n",
            "                              Dodge Caliber Wagon 2007       0.45      0.62      0.53         8\n",
            "                              Dodge Caliber Wagon 2012       0.60      0.38      0.46         8\n",
            "                            Dodge Caravan Minivan 1997       1.00      1.00      1.00         8\n",
            "                            Dodge Challenger SRT8 2011       1.00      0.71      0.83         7\n",
            "                              Dodge Charger SRT-8 2009       0.67      0.50      0.57         8\n",
            "                              Dodge Charger Sedan 2012       1.00      0.75      0.86         8\n",
            "                            Dodge Dakota Club Cab 2007       0.67      0.86      0.75         7\n",
            "                            Dodge Dakota Crew Cab 2010       0.89      1.00      0.94         8\n",
            "                                Dodge Durango SUV 2007       0.80      0.89      0.84         9\n",
            "                                Dodge Durango SUV 2012       1.00      0.75      0.86         8\n",
            "                                Dodge Journey SUV 2012       0.86      0.75      0.80         8\n",
            "                               Dodge Magnum Wagon 2008       0.62      0.62      0.62         8\n",
            "                   Dodge Ram Pickup 3500 Crew Cab 2010       0.86      0.75      0.80         8\n",
            "                   Dodge Ram Pickup 3500 Quad Cab 2009       1.00      0.50      0.67         8\n",
            "                         Dodge Sprinter Cargo Van 2009       1.00      0.75      0.86         8\n",
            "                            Eagle Talon Hatchback 1998       0.47      0.89      0.62         9\n",
            "                                  FIAT 500 Abarth 2012       0.56      1.00      0.71         5\n",
            "                             FIAT 500 Convertible 2012       1.00      1.00      1.00         6\n",
            "                   Ferrari 458 Italia Convertible 2012       0.55      0.75      0.63         8\n",
            "                         Ferrari 458 Italia Coupe 2012       0.44      0.50      0.47         8\n",
            "                   Ferrari California Convertible 2012       0.57      0.57      0.57         7\n",
            "                                 Ferrari FF Coupe 2012       0.86      0.75      0.80         8\n",
            "                               Fisker Karma Sedan 2012       0.73      1.00      0.84         8\n",
            "                          Ford E-Series Wagon Van 2012       1.00      0.86      0.92         7\n",
            "                                    Ford Edge SUV 2012       0.71      0.62      0.67         8\n",
            "                           Ford Expedition EL SUV 2009       1.00      0.67      0.80         9\n",
            "                           Ford F-150 Regular Cab 2007       0.88      0.78      0.82         9\n",
            "                           Ford F-150 Regular Cab 2012       0.70      0.88      0.78         8\n",
            "                   Ford F-450 Super Duty Crew Cab 2012       0.89      1.00      0.94         8\n",
            "                                Ford Fiesta Sedan 2012       0.86      0.75      0.80         8\n",
            "                                 Ford Focus Sedan 2007       0.50      1.00      0.67         9\n",
            "                            Ford Freestar Minivan 2007       0.80      1.00      0.89         8\n",
            "                                    Ford GT Coupe 2006       1.00      0.44      0.62         9\n",
            "                         Ford Mustang Convertible 2007       0.67      0.89      0.76         9\n",
            "                             Ford Ranger SuperCab 2011       1.00      0.75      0.86         8\n",
            "                                   GMC Acadia SUV 2012       0.73      0.89      0.80         9\n",
            "                          GMC Canyon Extended Cab 2012       1.00      0.62      0.77         8\n",
            "                                   GMC Savana Van 2012       0.75      0.69      0.72        13\n",
            "                                  GMC Terrain SUV 2012       1.00      1.00      1.00         8\n",
            "                             GMC Yukon Hybrid SUV 2012       0.86      0.75      0.80         8\n",
            "                            Geo Metro Convertible 1993       0.88      0.78      0.82         9\n",
            "                           HUMMER H2 SUT Crew Cab 2009       1.00      0.75      0.86         8\n",
            "                              HUMMER H3T Crew Cab 2010       0.88      1.00      0.93         7\n",
            "                               Honda Accord Coupe 2012       0.38      0.43      0.40         7\n",
            "                               Honda Accord Sedan 2012       0.75      0.86      0.80         7\n",
            "                            Honda Odyssey Minivan 2007       0.71      0.62      0.67         8\n",
            "                            Honda Odyssey Minivan 2012       0.70      0.88      0.78         8\n",
            "                             Hyundai Accent Sedan 2012       0.80      1.00      0.89         4\n",
            "                              Hyundai Azera Sedan 2012       0.78      0.88      0.82         8\n",
            "                            Hyundai Elantra Sedan 2007       1.00      0.88      0.93         8\n",
            "                Hyundai Elantra Touring Hatchback 2012       0.73      1.00      0.84         8\n",
            "                            Hyundai Genesis Sedan 2012       0.88      0.88      0.88         8\n",
            "                             Hyundai Santa Fe SUV 2012       0.86      0.75      0.80         8\n",
            "                      Hyundai Sonata Hybrid Sedan 2012       0.67      0.67      0.67         6\n",
            "                             Hyundai Sonata Sedan 2012       1.00      0.62      0.77         8\n",
            "                               Hyundai Tucson SUV 2012       0.80      1.00      0.89         8\n",
            "                       Hyundai Veloster Hatchback 2012       1.00      0.50      0.67         8\n",
            "                             Hyundai Veracruz SUV 2012       1.00      0.62      0.77         8\n",
            "                             Infiniti G Coupe IPL 2012       0.75      1.00      0.86         6\n",
            "                                Infiniti QX56 SUV 2011       0.83      0.83      0.83         6\n",
            "                               Isuzu Ascender SUV 2008       0.80      0.50      0.62         8\n",
            "                                    Jaguar XK XKR 2012       0.80      0.44      0.57         9\n",
            "                                 Jeep Compass SUV 2012       1.00      1.00      1.00         8\n",
            "                          Jeep Grand Cherokee SUV 2012       1.00      0.78      0.88         9\n",
            "                                 Jeep Liberty SUV 2012       0.73      0.89      0.80         9\n",
            "                                 Jeep Patriot SUV 2012       0.88      0.88      0.88         8\n",
            "                                Jeep Wrangler SUV 2012       1.00      1.00      1.00         8\n",
            "                      Lamborghini Aventador Coupe 2012       0.89      1.00      0.94         8\n",
            "                         Lamborghini Diablo Coupe 2001       1.00      0.89      0.94         9\n",
            "       Lamborghini Gallardo LP 570-4 Superleggera 2012       0.64      1.00      0.78         7\n",
            "                       Lamborghini Reventon Coupe 2008       1.00      0.86      0.92         7\n",
            "                               Land Rover LR2 SUV 2012       0.60      0.75      0.67         8\n",
            "                       Land Rover Range Rover SUV 2012       0.60      0.75      0.67         8\n",
            "                           Lincoln Town Car Sedan 2011       1.00      0.71      0.83         7\n",
            "                 MINI Cooper Roadster Convertible 2012       0.88      1.00      0.93         7\n",
            "                    Maybach Landaulet Convertible 2012       1.00      0.60      0.75         5\n",
            "                                Mazda Tribute SUV 2011       0.67      0.86      0.75         7\n",
            "                            McLaren MP4-12C Coupe 2012       0.80      0.50      0.62         8\n",
            "              Mercedes-Benz 300-Class Convertible 1993       1.00      0.67      0.80         9\n",
            "                      Mercedes-Benz C-Class Sedan 2012       1.00      0.67      0.80         9\n",
            "                      Mercedes-Benz E-Class Sedan 2012       0.50      0.62      0.56         8\n",
            "                      Mercedes-Benz S-Class Sedan 2012       0.78      0.78      0.78         9\n",
            "                     Mercedes-Benz SL-Class Coupe 2009       0.46      0.86      0.60         7\n",
            "                       Mercedes-Benz Sprinter Van 2012       0.80      1.00      0.89         8\n",
            "                          Mitsubishi Lancer Sedan 2012       0.78      0.78      0.78         9\n",
            "                               Nissan 240SX Coupe 1998       0.70      0.78      0.74         9\n",
            "                            Nissan Juke Hatchback 2012       0.78      0.88      0.82         8\n",
            "                            Nissan Leaf Hatchback 2012       0.89      1.00      0.94         8\n",
            "                          Nissan NV Passenger Van 2012       0.83      0.71      0.77         7\n",
            "                              Plymouth Neon Coupe 1999       0.86      0.75      0.80         8\n",
            "                           Porsche Panamera Sedan 2012       0.29      0.62      0.40         8\n",
            "                                                 Ram C       0.70      0.88      0.78         8\n",
            "                          Rolls-Royce Ghost Sedan 2012       0.75      0.43      0.55         7\n",
            "   Rolls-Royce Phantom Drophead Coupe Convertible 2012       0.50      0.50      0.50         6\n",
            "                        Rolls-Royce Phantom Sedan 2012       0.60      0.75      0.67         8\n",
            "                               Scion xD Hatchback 2012       1.00      0.75      0.86         8\n",
            "                            Spyker C8 Convertible 2009       0.67      0.67      0.67         9\n",
            "                                  Spyker C8 Coupe 2009       0.75      0.75      0.75         8\n",
            "                               Suzuki Aerio Sedan 2007       0.86      0.86      0.86         7\n",
            "                             Suzuki Kizashi Sedan 2012       0.80      0.44      0.57         9\n",
            "                             Suzuki SX4 Hatchback 2012       1.00      0.38      0.55         8\n",
            "                                 Suzuki SX4 Sedan 2012       0.62      0.62      0.62         8\n",
            "                              Tesla Model S Sedan 2012       0.50      0.86      0.63         7\n",
            "                               Toyota 4Runner SUV 2012       1.00      0.88      0.93         8\n",
            "                               Toyota Camry Sedan 2012       0.50      0.62      0.56         8\n",
            "                             Toyota Corolla Sedan 2012       1.00      0.88      0.93         8\n",
            "                               Toyota Sequoia SUV 2012       0.80      0.57      0.67         7\n",
            "                      Volkswagen Beetle Hatchback 2012       0.89      1.00      0.94         8\n",
            "                        Volkswagen Golf Hatchback 1991       0.62      0.89      0.73         9\n",
            "                        Volkswagen Golf Hatchback 2012       0.67      0.75      0.71         8\n",
            "                                  Volvo 240 Sedan 1993       1.00      0.67      0.80         9\n",
            "                              Volvo C30 Hatchback 2012       0.80      1.00      0.89         8\n",
            "                                   Volvo XC90 SUV 2007       1.00      0.75      0.86         8\n",
            "                         smart fortwo Convertible 2012       0.78      0.88      0.82         8\n",
            "\n",
            "                                              accuracy                           0.71      1546\n",
            "                                             macro avg       0.75      0.72      0.71      1546\n",
            "                                          weighted avg       0.75      0.71      0.71      1546\n",
            "\n"
          ]
        },
        {
          "output_type": "display_data",
          "data": {
            "text/plain": [
              "<Figure size 600x600 with 1 Axes>"
            ],
            "image/png": "[encoded data removed]"
          },
          "metadata": {}
        }
      ],
      "source": [
        "import torch, matplotlib.pyplot as plt\n",
        "from sklearn.metrics import confusion_matrix, classification_report\n",
        "import numpy as np\n",
        "\n",
        "# Load best\n",
        "ckpt = torch.load(best_path, map_location=device)\n",
        "model.load_state_dict(ckpt[\"model\"])\n",
        "classes = ckpt[\"classes\"]\n",
        "\n",
        "# Collect predictions\n",
        "y_true, y_pred = [], []\n",
        "model.eval()\n",
        "with torch.no_grad():\n",
        "    for x, y in val_loader:\n",
        "        x = x.to(device)\n",
        "        logits = model(x)\n",
        "        preds = logits.argmax(dim=1).cpu().numpy()\n",
        "        y_pred.extend(preds.tolist())\n",
        "        y_true.extend(y.numpy().tolist())\n",
        "\n",
        "print(classification_report(y_true, y_pred, target_names=[str(c) for c in classes][:len(set(y_true))]))\n",
        "\n",
        "cm = confusion_matrix(y_true, y_pred)\n",
        "fig, ax = plt.subplots(figsize=(6,6))\n",
        "ax.imshow(cm)  # No specific colors set (policy requirement)\n",
        "ax.set_title(\"Confusion Matrix\")\n",
        "ax.set_xlabel(\"Predicted\")\n",
        "ax.set_ylabel(\"True\")\n",
        "plt.show()"
      ]
    },
    {
      "cell_type": "code",
      "source": [
        "from google.colab import drive\n",
        "drive.mount('/content/drive')\n",
        "\n"
      ],
      "metadata": {
        "colab": {
          "base_uri": "https://localhost:8080/"
        },
        "id": "lvlnT3oE5Qqc",
        "outputId": "aa314982-d086-45c4-9564-0d6cfc2a0df9"
      },
      "id": "lvlnT3oE5Qqc",
      "execution_count": 34,
      "outputs": [
        {
          "output_type": "stream",
          "name": "stdout",
          "text": [
            "Mounted at /content/drive\n"
          ]
        }
      ]
    },
    {
      "cell_type": "markdown",
      "id": "201ee856",
      "metadata": {
        "id": "201ee856"
      },
      "source": [
        "## 9) Inference helper\n",
        "\n",
        "Pass the path to a local image; the function returns the predicted class label."
      ]
    },
    {
      "cell_type": "code",
      "execution_count": 49,
      "id": "2aac8e8f",
      "metadata": {
        "colab": {
          "base_uri": "https://localhost:8080/",
          "height": 35
        },
        "id": "2aac8e8f",
        "outputId": "470827bc-50f7-45b3-8c87-532a75c829ac"
      },
      "outputs": [
        {
          "output_type": "execute_result",
          "data": {
            "text/plain": [
              "'Volkswagen Golf Hatchback 1991'"
            ],
            "application/vnd.google.colaboratory.intrinsic+json": {
              "type": "string"
            }
          },
          "metadata": {},
          "execution_count": 49
        }
      ],
      "source": [
        "from PIL import Image\n",
        "import torch\n",
        "from torchvision import transforms\n",
        "\n",
        "infer_tfms = transforms.Compose([\n",
        "    transforms.Resize(int(224*1.15)),\n",
        "    transforms.CenterCrop(224),\n",
        "    transforms.ToTensor(),\n",
        "    transforms.Normalize((0.485, 0.456, 0.406), (0.229, 0.224, 0.225)),\n",
        "])\n",
        "\n",
        "def predict_image(path: str):\n",
        "    img = Image.open(path).convert(\"RGB\")\n",
        "    x = infer_tfms(img).unsqueeze(0).to(device)\n",
        "    model.eval()\n",
        "    with torch.no_grad():\n",
        "        logits = model(x)\n",
        "        pred = logits.argmax(dim=1).item()\n",
        "    return classes[pred]\n",
        "\n",
        "predict_image(\"/content/drive/MyDrive/toyota.jpg\")"
      ]
    },
    {
      "cell_type": "code",
      "source": [
        "import io, requests, torch\n",
        "from PIL import Image\n",
        "from torchvision import transforms\n",
        "\n",
        "IMG_SIZE = 300 if '300' in str(next(model.parameters()).shape) else 224  # adjust if you switched models\n",
        "\n",
        "infer_tfms = transforms.Compose([\n",
        "    transforms.Resize(int(IMG_SIZE*1.15)),\n",
        "    transforms.CenterCrop(IMG_SIZE),\n",
        "    transforms.ToTensor(),\n",
        "    transforms.Normalize((0.485,0.456,0.406),(0.229,0.224,0.225)),\n",
        "])\n",
        "\n",
        "def load_image_from_url(url: str) -> Image.Image:\n",
        "    r = requests.get(url, timeout=20)\n",
        "    r.raise_for_status()\n",
        "    return Image.open(io.BytesIO(r.content)).convert(\"RGB\")\n",
        "\n",
        "@torch.no_grad()\n",
        "def topk_preds(img: Image.Image, k=5):\n",
        "    x = infer_tfms(img).unsqueeze(0).to(device)\n",
        "    logits = model(x)\n",
        "    probs = logits.softmax(1).squeeze(0)\n",
        "    topk = torch.topk(probs, k)\n",
        "    ids = topk.indices.cpu().tolist()\n",
        "    ps  = topk.values.cpu().tolist()\n",
        "    return [(classes[i], float(p)) for i,p in zip(ids, ps)]\n",
        "\n",
        "img = img = Image.open(\"/content/drive/MyDrive/toyota.jpg\").convert(\"RGB\")\n",
        "for name, p in topk_preds(img, k=5):\n",
        "    print(f\"{name:60s}  {p:.3f}\")"
      ],
      "metadata": {
        "colab": {
          "base_uri": "https://localhost:8080/"
        },
        "id": "FWYXlSbl77vv",
        "outputId": "36d249b0-ae21-45f4-e199-19a43e400b0c"
      },
      "id": "FWYXlSbl77vv",
      "execution_count": 50,
      "outputs": [
        {
          "output_type": "stream",
          "name": "stdout",
          "text": [
            "Volkswagen Golf Hatchback 1991                                0.446\n",
            "Audi 100 Sedan 1994                                           0.252\n",
            "Nissan 240SX Coupe 1998                                       0.097\n",
            "Audi 100 Wagon 1994                                           0.043\n",
            "Plymouth Neon Coupe 1999                                      0.025\n"
          ]
        }
      ]
    },
    {
      "cell_type": "markdown",
      "id": "cbba06c1",
      "metadata": {
        "id": "cbba06c1"
      },
      "source": [
        "## 10) Export the model\n",
        "\n",
        "Saves a TorchScript file (`best_model.ts`) for easier deployment."
      ]
    },
    {
      "cell_type": "code",
      "execution_count": 47,
      "id": "b8372c1e",
      "metadata": {
        "colab": {
          "base_uri": "https://localhost:8080/"
        },
        "id": "b8372c1e",
        "outputId": "3f958bfb-6492-41eb-f38f-7e166ab8917e"
      },
      "outputs": [
        {
          "output_type": "stream",
          "name": "stdout",
          "text": [
            "Saved TorchScript to: ./checkpoints/best_model.ts\n"
          ]
        }
      ],
      "source": [
        "example = torch.randn(1, 3, 224, 224, device=device)\n",
        "traced = torch.jit.trace(model, example)\n",
        "ts_path = \"./checkpoints/best_model.ts\"\n",
        "traced.save(ts_path)\n",
        "print(\"Saved TorchScript to:\", ts_path)"
      ]
    },
    {
      "cell_type": "markdown",
      "id": "86e34d18",
      "metadata": {
        "id": "86e34d18"
      },
      "source": [
        "## Notes & Troubleshooting\n",
        "\n",
        "- If auto‑detection of the data root fails, manually set `DATA_ROOT` to the folder that contains **one subfolder per class**.\n",
        "- Some Kaggle mirrors of Stanford Cars include a devkit with `.mat` annotation files instead of class folders. In that case, consider preprocessing into a class‑folder layout or adapting the dataset loader.\n",
        "- For faster training, try `efficientnet_b1`/`b2` with larger image sizes and adjust the batch size."
      ]
    },
    {
      "cell_type": "markdown",
      "id": "2ea63181",
      "metadata": {
        "id": "2ea63181"
      },
      "source": [
        "## 11) Save the notebook & checkpoints to **Google Drive**\n",
        "\n",
        "Pick **either** Option A (easy if you're on Colab) **or** Option B (works on any Jupyter with OAuth in your browser)."
      ]
    },
    {
      "cell_type": "markdown",
      "id": "c4ea4a7d",
      "metadata": {
        "id": "c4ea4a7d"
      },
      "source": [
        "### Option A — Colab: mount Drive and copy files"
      ]
    },
    {
      "cell_type": "code",
      "execution_count": null,
      "id": "16fba657",
      "metadata": {
        "id": "16fba657"
      },
      "outputs": [],
      "source": [
        "# If you're running this in Google Colab:\n",
        "try:\n",
        "    from google.colab import drive\n",
        "    drive.mount('/content/drive')\n",
        "    print(\"Mounted at /content/drive\")\n",
        "except Exception as e:\n",
        "    print(\"Not on Colab or google.colab not available:\", e)"
      ]
    },
    {
      "cell_type": "code",
      "execution_count": 48,
      "id": "48bc13ba",
      "metadata": {
        "colab": {
          "base_uri": "https://localhost:8080/"
        },
        "id": "48bc13ba",
        "outputId": "b8e4dc1d-d26f-46cb-be31-7b2891d40041"
      },
      "outputs": [
        {
          "output_type": "stream",
          "name": "stdout",
          "text": [
            "Notebook file not found in CWD; if running as .ipynb, this is expected.\n",
            "Copied: /content/checkpoints/best_model.ts -> /content/drive/MyDrive/StanfordCars\n",
            "Copied: /content/checkpoints/best_model.pt -> /content/drive/MyDrive/StanfordCars\n"
          ]
        }
      ],
      "source": [
        "# Paths\n",
        "import os, shutil, pathlib, glob\n",
        "\n",
        "# Where this notebook saved artifacts earlier\n",
        "LOCAL_NOTEBOOK = \"StanfordCars_Training.ipynb\"   # this current file name\n",
        "LOCAL_DIR      = os.getcwd()                     # current working dir\n",
        "CKPT_DIR       = os.path.join(LOCAL_DIR, \"checkpoints\")\n",
        "\n",
        "# Where to put them in Drive\n",
        "DRIVE_DIR = \"/content/drive/MyDrive/StanfordCars\"  # change if you want\n",
        "\n",
        "# Ensure Drive target exists\n",
        "pathlib.Path(DRIVE_DIR).mkdir(parents=True, exist_ok=True)\n",
        "\n",
        "# Copy notebook itself (if present) and checkpoints\n",
        "if os.path.exists(LOCAL_NOTEBOOK):\n",
        "    shutil.copy2(LOCAL_NOTEBOOK, DRIVE_DIR)\n",
        "    print(\"Copied:\", LOCAL_NOTEBOOK, \"->\", DRIVE_DIR)\n",
        "else:\n",
        "    print(\"Notebook file not found in CWD; if running as .ipynb, this is expected.\")\n",
        "\n",
        "if os.path.isdir(CKPT_DIR):\n",
        "    for p in glob.glob(os.path.join(CKPT_DIR, \"*\")):\n",
        "        shutil.copy2(p, DRIVE_DIR)\n",
        "        print(\"Copied:\", p, \"->\", DRIVE_DIR)\n",
        "else:\n",
        "    print(\"No checkpoints directory found (yet).\")"
      ]
    },
    {
      "cell_type": "markdown",
      "id": "5fa6567b",
      "metadata": {
        "id": "5fa6567b"
      },
      "source": [
        "### Option B — Any Jupyter: upload via PyDrive2 (OAuth)\n",
        "You can upload the generated files to a specific Drive **folder** by ID. If you don't know the folder ID, create a folder in Drive, open it in your browser, and copy the long ID from the URL."
      ]
    },
    {
      "cell_type": "code",
      "execution_count": null,
      "id": "9f37ba82",
      "metadata": {
        "id": "9f37ba82"
      },
      "outputs": [],
      "source": [
        "%pip -q install pydrive2 --upgrade"
      ]
    },
    {
      "cell_type": "code",
      "execution_count": null,
      "id": "21f403e4",
      "metadata": {
        "id": "21f403e4"
      },
      "outputs": [],
      "source": [
        "from pydrive2.auth import GoogleAuth\n",
        "from pydrive2.drive import GoogleDrive\n",
        "import os, glob\n",
        "\n",
        "# OAuth in a browser window the first time:\n",
        "gauth = GoogleAuth()\n",
        "gauth.LocalWebserverAuth()  # follow the link & paste code if needed\n",
        "drive = GoogleDrive(gauth)\n",
        "\n",
        "FOLDER_ID = \"\"  # <-- Optional: put your Drive folder ID here (or leave blank to upload to root)\n",
        "\n",
        "def upload_file(path, folder_id=None):\n",
        "    fname = os.path.basename(path)\n",
        "    metadata = {\"title\": fname}\n",
        "    if folder_id:\n",
        "        metadata[\"parents\"] = [{\"id\": folder_id}]\n",
        "    f = drive.CreateFile(metadata)\n",
        "    f.SetContentFile(path)\n",
        "    f.Upload()\n",
        "    print(\"Uploaded:\", fname, \"id:\", f[\"id\"])\n",
        "    return f[\"id\"]\n",
        "\n",
        "# Upload checkpoints and (optionally) the notebook file saved to disk\n",
        "targets = []\n",
        "if os.path.isdir(\"checkpoints\"):\n",
        "    targets.extend(glob.glob(\"checkpoints/*\"))\n",
        "if os.path.exists(\"StanfordCars_Training.ipynb\"):\n",
        "    targets.append(\"StanfordCars_Training.ipynb\")\n",
        "\n",
        "if not targets:\n",
        "    print(\"Nothing to upload yet. Train first to create checkpoints or ensure paths are correct.\")\n",
        "else:\n",
        "    for t in targets:\n",
        "        upload_file(t, FOLDER_ID or None)"
      ]
    },
    {
      "cell_type": "code",
      "source": [
        "# Multi-image (3 views) -> single prediction\n",
        "# - mode=\"logit_mean\": average logits (robust default)\n",
        "# - mode=\"softmax_mean\": average probabilities\n",
        "# - mode=\"conf_weighted\": confidence-weighted avg (lower entropy = higher weight)\n",
        "# - make_rerank=True: pick the most likely MAKE first, then top classes within that make\n",
        "\n",
        "# If you don't have requests installed (for URLs):  %pip -q install requests\n",
        "\n",
        "import io, requests, torch\n",
        "from PIL import Image\n",
        "from torchvision import transforms\n",
        "\n",
        "# Use your existing infer_tfms; if missing, define a safe default:\n",
        "try:\n",
        "    infer_tfms\n",
        "except NameError:\n",
        "    IMG_SIZE = 224\n",
        "    infer_tfms = transforms.Compose([\n",
        "        transforms.Resize(int(IMG_SIZE*1.15)),\n",
        "        transforms.CenterCrop(IMG_SIZE),\n",
        "        transforms.ToTensor(),\n",
        "        transforms.Normalize((0.485,0.456,0.406),(0.229,0.224,0.225)),\n",
        "    ])\n",
        "\n",
        "def _load_image(item):\n",
        "    if isinstance(item, Image.Image):\n",
        "        return item.convert(\"RGB\")\n",
        "    if isinstance(item, str) and item.startswith((\"http://\",\"https://\")):\n",
        "        r = requests.get(item, timeout=20)\n",
        "        r.raise_for_status()\n",
        "        return Image.open(io.BytesIO(r.content)).convert(\"RGB\")\n",
        "    return Image.open(item).convert(\"RGB\")\n",
        "\n",
        "@torch.no_grad()\n",
        "def _logits_for(img):\n",
        "    x = infer_tfms(img).unsqueeze(0).to(device)\n",
        "    return model(x)  # [1, C]\n",
        "\n",
        "@torch.no_grad()\n",
        "def predict_from_images(items, mode=\"logit_mean\", topk=5, make_rerank=True):\n",
        "    # items: list of 3 paths/URLs/PIL Images\n",
        "    logits_list = []\n",
        "    for it in items:\n",
        "        img = _load_image(it)\n",
        "        logits = _logits_for(img).squeeze(0)  # [C]\n",
        "        logits_list.append(logits)\n",
        "\n",
        "    L = torch.stack(logits_list, dim=0)  # [N, C]\n",
        "\n",
        "    if mode == \"softmax_mean\":\n",
        "        probs = torch.softmax(L, dim=1).mean(dim=0)\n",
        "    elif mode == \"conf_weighted\":\n",
        "        probs_i = torch.softmax(L, dim=1)            # [N, C]\n",
        "        ent = (-probs_i * (probs_i.clamp_min(1e-9)).log()).sum(dim=1)  # [N] entropy\n",
        "        w = 1.0 / (ent + 1e-6)\n",
        "        w = w / w.sum()\n",
        "        probs = (probs_i * w[:, None]).sum(dim=0)    # weighted mean of probs\n",
        "    else:  # \"logit_mean\" (default): softmax(mean logits)\n",
        "        probs = torch.softmax(L.mean(dim=0), dim=0)\n",
        "\n",
        "    # Top-K overall\n",
        "    vals, idx = probs.topk(topk)\n",
        "    idx = idx.cpu().tolist()\n",
        "    vals = vals.cpu().tolist()\n",
        "    overall_topk = [(classes[i], float(p)) for i, p in zip(idx, vals)]\n",
        "\n",
        "    if not make_rerank:\n",
        "        return {\"mode\": mode, \"topk\": overall_topk}\n",
        "\n",
        "    # Make-aware re-ranking\n",
        "    from collections import defaultdict\n",
        "    make_to_ids = defaultdict(list)\n",
        "    for i, name in enumerate(classes):\n",
        "        mk = name.split()[0]\n",
        "        make_to_ids[mk].append(i)\n",
        "\n",
        "    probs_np = probs.cpu().numpy()\n",
        "    make_scores = {mk: float(probs_np[ids].sum()) for mk, ids in make_to_ids.items()}\n",
        "    best_make = max(make_scores, key=make_scores.get)\n",
        "\n",
        "    ids = make_to_ids[best_make]\n",
        "    ids_sorted = sorted(ids, key=lambda i: probs_np[i], reverse=True)\n",
        "    make_topk = [(classes[i], float(probs_np[i])) for i in ids_sorted[:topk]]\n",
        "\n",
        "    return {\n",
        "        \"mode\": mode,\n",
        "        \"topk\": overall_topk,\n",
        "        \"best_make\": best_make,\n",
        "        \"make_topk\": make_topk\n",
        "    }"
      ],
      "metadata": {
        "id": "gqKViIyQ8uYb"
      },
      "id": "gqKViIyQ8uYb",
      "execution_count": 53,
      "outputs": []
    },
    {
      "cell_type": "code",
      "source": [
        "items = [\n",
        "    \"/content/drive/MyDrive/audi.webp\",\n",
        "    \"/content/drive/MyDrive/audi2.webp\",\n",
        "    \"/content/drive/MyDrive/audi3.webp\",\n",
        "    # URLs also work:\n",
        "    # \"https://example.com/car1.jpg\",\n",
        "]\n",
        "\n",
        "out = predict_from_images(items, mode=\"logit_mean\", topk=5, make_rerank=True)\n",
        "print(\"Overall Top-3:\", out[\"topk\"][:3])\n",
        "print(\"Best make:\", out[\"best_make\"])\n",
        "print(\"Within-make Top-3:\", out[\"make_topk\"][:3])"
      ],
      "metadata": {
        "colab": {
          "base_uri": "https://localhost:8080/"
        },
        "id": "LDDqiGGX9UDV",
        "outputId": "553692a3-314e-464f-d681-263707c77146"
      },
      "id": "LDDqiGGX9UDV",
      "execution_count": 63,
      "outputs": [
        {
          "output_type": "stream",
          "name": "stdout",
          "text": [
            "Overall Top-3: [('Audi S4 Sedan 2012', 0.3958580791950226), ('Audi R8 Coupe 2012', 0.10486044734716415), ('Audi A5 Coupe 2012', 0.10164438188076019)]\n",
            "Best make: Audi\n",
            "Within-make Top-3: [('Audi S4 Sedan 2012', 0.3958580791950226), ('Audi R8 Coupe 2012', 0.10486044734716415), ('Audi A5 Coupe 2012', 0.10164438188076019)]\n"
          ]
        }
      ]
    }
  ],
  "metadata": {
    "colab": {
      "provenance": [],
      "gpuType": "T4"
    },
    "accelerator": "GPU",
    "language_info": {
      "name": "python"
    },
    "kernelspec": {
      "name": "python3",
      "display_name": "Python 3"
    },
    "widgets": {
      "application/vnd.jupyter.widget-state+json": {
        "83c509722c5e4f86b9cb5e12e6eee9f3": {
          "model_module": "@jupyter-widgets/controls",
          "model_name": "HBoxModel",
          "model_module_version": "1.5.0",
          "state": {
            "_dom_classes": [],
            "_model_module": "@jupyter-widgets/controls",
            "_model_module_version": "1.5.0",
            "_model_name": "HBoxModel",
            "_view_count": null,
            "_view_module": "@jupyter-widgets/controls",
            "_view_module_version": "1.5.0",
            "_view_name": "HBoxView",
            "box_style": "",
            "children": [
              "IPY_MODEL_4fdfff2ab417460997a80698b8027471",
              "IPY_MODEL_25f02afb2d974f94831f99a1eeec2f91",
              "IPY_MODEL_4b9f8099489741d799db0135617a11fd"
            ],
            "layout": "IPY_MODEL_fde8ba35926545f0bfb3fa07e959ff2e"
          }
        },
        "4fdfff2ab417460997a80698b8027471": {
          "model_module": "@jupyter-widgets/controls",
          "model_name": "HTMLModel",
          "model_module_version": "1.5.0",
          "state": {
            "_dom_classes": [],
            "_model_module": "@jupyter-widgets/controls",
            "_model_module_version": "1.5.0",
            "_model_name": "HTMLModel",
            "_view_count": null,
            "_view_module": "@jupyter-widgets/controls",
            "_view_module_version": "1.5.0",
            "_view_name": "HTMLView",
            "description": "",
            "description_tooltip": null,
            "layout": "IPY_MODEL_984a01dcd804409488ed353ca3a56865",
            "placeholder": "​",
            "style": "IPY_MODEL_10ed51d4f7b64166bcc988b23d3130cb",
            "value": "model.safetensors: 100%"
          }
        },
        "25f02afb2d974f94831f99a1eeec2f91": {
          "model_module": "@jupyter-widgets/controls",
          "model_name": "FloatProgressModel",
          "model_module_version": "1.5.0",
          "state": {
            "_dom_classes": [],
            "_model_module": "@jupyter-widgets/controls",
            "_model_module_version": "1.5.0",
            "_model_name": "FloatProgressModel",
            "_view_count": null,
            "_view_module": "@jupyter-widgets/controls",
            "_view_module_version": "1.5.0",
            "_view_name": "ProgressView",
            "bar_style": "success",
            "description": "",
            "description_tooltip": null,
            "layout": "IPY_MODEL_16e957a078b54952af95f781e278da08",
            "max": 21355344,
            "min": 0,
            "orientation": "horizontal",
            "style": "IPY_MODEL_ffa6ec8389214de7bfcd37395944e90f",
            "value": 21355344
          }
        },
        "4b9f8099489741d799db0135617a11fd": {
          "model_module": "@jupyter-widgets/controls",
          "model_name": "HTMLModel",
          "model_module_version": "1.5.0",
          "state": {
            "_dom_classes": [],
            "_model_module": "@jupyter-widgets/controls",
            "_model_module_version": "1.5.0",
            "_model_name": "HTMLModel",
            "_view_count": null,
            "_view_module": "@jupyter-widgets/controls",
            "_view_module_version": "1.5.0",
            "_view_name": "HTMLView",
            "description": "",
            "description_tooltip": null,
            "layout": "IPY_MODEL_9cba549f8db9423eb4c4c43ccca6145e",
            "placeholder": "​",
            "style": "IPY_MODEL_8a01c94500be4dc78eed92b992fa0c00",
            "value": " 21.4M/21.4M [00:00&lt;00:00, 41.5MB/s]"
          }
        },
        "fde8ba35926545f0bfb3fa07e959ff2e": {
          "model_module": "@jupyter-widgets/base",
          "model_name": "LayoutModel",
          "model_module_version": "1.2.0",
          "state": {
            "_model_module": "@jupyter-widgets/base",
            "_model_module_version": "1.2.0",
            "_model_name": "LayoutModel",
            "_view_count": null,
            "_view_module": "@jupyter-widgets/base",
            "_view_module_version": "1.2.0",
            "_view_name": "LayoutView",
            "align_content": null,
            "align_items": null,
            "align_self": null,
            "border": null,
            "bottom": null,
            "display": null,
            "flex": null,
            "flex_flow": null,
            "grid_area": null,
            "grid_auto_columns": null,
            "grid_auto_flow": null,
            "grid_auto_rows": null,
            "grid_column": null,
            "grid_gap": null,
            "grid_row": null,
            "grid_template_areas": null,
            "grid_template_columns": null,
            "grid_template_rows": null,
            "height": null,
            "justify_content": null,
            "justify_items": null,
            "left": null,
            "margin": null,
            "max_height": null,
            "max_width": null,
            "min_height": null,
            "min_width": null,
            "object_fit": null,
            "object_position": null,
            "order": null,
            "overflow": null,
            "overflow_x": null,
            "overflow_y": null,
            "padding": null,
            "right": null,
            "top": null,
            "visibility": null,
            "width": null
          }
        },
        "984a01dcd804409488ed353ca3a56865": {
          "model_module": "@jupyter-widgets/base",
          "model_name": "LayoutModel",
          "model_module_version": "1.2.0",
          "state": {
            "_model_module": "@jupyter-widgets/base",
            "_model_module_version": "1.2.0",
            "_model_name": "LayoutModel",
            "_view_count": null,
            "_view_module": "@jupyter-widgets/base",
            "_view_module_version": "1.2.0",
            "_view_name": "LayoutView",
            "align_content": null,
            "align_items": null,
            "align_self": null,
            "border": null,
            "bottom": null,
            "display": null,
            "flex": null,
            "flex_flow": null,
            "grid_area": null,
            "grid_auto_columns": null,
            "grid_auto_flow": null,
            "grid_auto_rows": null,
            "grid_column": null,
            "grid_gap": null,
            "grid_row": null,
            "grid_template_areas": null,
            "grid_template_columns": null,
            "grid_template_rows": null,
            "height": null,
            "justify_content": null,
            "justify_items": null,
            "left": null,
            "margin": null,
            "max_height": null,
            "max_width": null,
            "min_height": null,
            "min_width": null,
            "object_fit": null,
            "object_position": null,
            "order": null,
            "overflow": null,
            "overflow_x": null,
            "overflow_y": null,
            "padding": null,
            "right": null,
            "top": null,
            "visibility": null,
            "width": null
          }
        },
        "10ed51d4f7b64166bcc988b23d3130cb": {
          "model_module": "@jupyter-widgets/controls",
          "model_name": "DescriptionStyleModel",
          "model_module_version": "1.5.0",
          "state": {
            "_model_module": "@jupyter-widgets/controls",
            "_model_module_version": "1.5.0",
            "_model_name": "DescriptionStyleModel",
            "_view_count": null,
            "_view_module": "@jupyter-widgets/base",
            "_view_module_version": "1.2.0",
            "_view_name": "StyleView",
            "description_width": ""
          }
        },
        "16e957a078b54952af95f781e278da08": {
          "model_module": "@jupyter-widgets/base",
          "model_name": "LayoutModel",
          "model_module_version": "1.2.0",
          "state": {
            "_model_module": "@jupyter-widgets/base",
            "_model_module_version": "1.2.0",
            "_model_name": "LayoutModel",
            "_view_count": null,
            "_view_module": "@jupyter-widgets/base",
            "_view_module_version": "1.2.0",
            "_view_name": "LayoutView",
            "align_content": null,
            "align_items": null,
            "align_self": null,
            "border": null,
            "bottom": null,
            "display": null,
            "flex": null,
            "flex_flow": null,
            "grid_area": null,
            "grid_auto_columns": null,
            "grid_auto_flow": null,
            "grid_auto_rows": null,
            "grid_column": null,
            "grid_gap": null,
            "grid_row": null,
            "grid_template_areas": null,
            "grid_template_columns": null,
            "grid_template_rows": null,
            "height": null,
            "justify_content": null,
            "justify_items": null,
            "left": null,
            "margin": null,
            "max_height": null,
            "max_width": null,
            "min_height": null,
            "min_width": null,
            "object_fit": null,
            "object_position": null,
            "order": null,
            "overflow": null,
            "overflow_x": null,
            "overflow_y": null,
            "padding": null,
            "right": null,
            "top": null,
            "visibility": null,
            "width": null
          }
        },
        "ffa6ec8389214de7bfcd37395944e90f": {
          "model_module": "@jupyter-widgets/controls",
          "model_name": "ProgressStyleModel",
          "model_module_version": "1.5.0",
          "state": {
            "_model_module": "@jupyter-widgets/controls",
            "_model_module_version": "1.5.0",
            "_model_name": "ProgressStyleModel",
            "_view_count": null,
            "_view_module": "@jupyter-widgets/base",
            "_view_module_version": "1.2.0",
            "_view_name": "StyleView",
            "bar_color": null,
            "description_width": ""
          }
        },
        "9cba549f8db9423eb4c4c43ccca6145e": {
          "model_module": "@jupyter-widgets/base",
          "model_name": "LayoutModel",
          "model_module_version": "1.2.0",
          "state": {
            "_model_module": "@jupyter-widgets/base",
            "_model_module_version": "1.2.0",
            "_model_name": "LayoutModel",
            "_view_count": null,
            "_view_module": "@jupyter-widgets/base",
            "_view_module_version": "1.2.0",
            "_view_name": "LayoutView",
            "align_content": null,
            "align_items": null,
            "align_self": null,
            "border": null,
            "bottom": null,
            "display": null,
            "flex": null,
            "flex_flow": null,
            "grid_area": null,
            "grid_auto_columns": null,
            "grid_auto_flow": null,
            "grid_auto_rows": null,
            "grid_column": null,
            "grid_gap": null,
            "grid_row": null,
            "grid_template_areas": null,
            "grid_template_columns": null,
            "grid_template_rows": null,
            "height": null,
            "justify_content": null,
            "justify_items": null,
            "left": null,
            "margin": null,
            "max_height": null,
            "max_width": null,
            "min_height": null,
            "min_width": null,
            "object_fit": null,
            "object_position": null,
            "order": null,
            "overflow": null,
            "overflow_x": null,
            "overflow_y": null,
            "padding": null,
            "right": null,
            "top": null,
            "visibility": null,
            "width": null
          }
        },
        "8a01c94500be4dc78eed92b992fa0c00": {
          "model_module": "@jupyter-widgets/controls",
          "model_name": "DescriptionStyleModel",
          "model_module_version": "1.5.0",
          "state": {
            "_model_module": "@jupyter-widgets/controls",
            "_model_module_version": "1.5.0",
            "_model_name": "DescriptionStyleModel",
            "_view_count": null,
            "_view_module": "@jupyter-widgets/base",
            "_view_module_version": "1.2.0",
            "_view_name": "StyleView",
            "description_width": ""
          }
        }
      }
    }
  },
  "nbformat": 4,
  "nbformat_minor": 5
}